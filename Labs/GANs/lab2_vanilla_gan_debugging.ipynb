{
  "cells": [
    {
      "cell_type": "markdown",
      "metadata": {
        "id": "tTnVTpP9OdZM"
      },
      "source": [
        "# Lab 2: Debug a Broken Vanilla GAN (find 12+ issues)"
      ],
      "id": "tTnVTpP9OdZM"
    },
    {
      "cell_type": "code",
      "metadata": {
        "colab": {
          "base_uri": "https://localhost:8080/"
        },
        "id": "erDyqCPWOdZN",
        "outputId": "54a339ac-2b82-4750-85c4-c690211d40ec"
      },
      "execution_count": 1,
      "outputs": [
        {
          "output_type": "stream",
          "name": "stderr",
          "text": [
            "100%|██████████| 9.91M/9.91M [00:00<00:00, 18.1MB/s]\n",
            "100%|██████████| 28.9k/28.9k [00:00<00:00, 481kB/s]\n",
            "100%|██████████| 1.65M/1.65M [00:00<00:00, 3.81MB/s]\n",
            "100%|██████████| 4.54k/4.54k [00:00<00:00, 9.33MB/s]\n"
          ]
        }
      ],
      "source": [
        "import torch, torchvision, torch.nn as nn\n",
        "from torch.utils.data import DataLoader\n",
        "from torchvision import transforms\n",
        "\n",
        "\n",
        "\n",
        "device=torch.device('cuda' if torch.cuda.is_available() else 'cpu')\n",
        "transform=transforms.Compose([\n",
        "    # transforms.Resize((IMAGE_SIZE, IMAGE_SIZE)),\n",
        "    transforms.ToTensor(),\n",
        "    transforms.Normalize((0.5, ), (0.5, ))\n",
        "    ] )  # BUG normalize\n",
        "\n",
        "\n",
        "loader=DataLoader(torchvision.datasets.MNIST('./data',True,download=True,transform=transform),batch_size=256,shuffle=True,num_workers=2,pin_memory=True)\n",
        "z_dim=100\n",
        "g_lr=2e-2\n",
        "d_lr=2e-5\n",
        "\n",
        "\n",
        "class D(nn.Module):\n",
        "    def __init__(self):\n",
        "        super().__init__();\n",
        "        self.net=nn.Sequential(\n",
        "\n",
        "        nn.Conv2d(1,32,4,2,1),\n",
        "        nn.LeakyReLU(0.2,True),\n",
        "        nn.Conv2d(32,64,4,2,1),\n",
        "        nn.BatchNorm2d(64),\n",
        "        nn.LeakyReLU(0.2,True),\n",
        "        nn.Conv2d(64,1,7,1,0),\n",
        "        # nn.Sigmoid() # error\n",
        "        )\n",
        "\n",
        "    def forward(self,x):\n",
        "      return self.net(x).view(x.size(0),1) # reshape error\n",
        "\n",
        "\n",
        "\n",
        "class G(nn.Module):\n",
        "    def __init__(self):\n",
        "        super().__init__();\n",
        "        self.net=nn.Sequential(\n",
        "            nn.ConvTranspose2d(100,128,7,1,0),\n",
        "            nn.BatchNorm2d(128),\n",
        "            nn.ReLU(True),\n",
        "            nn.ConvTranspose2d(128,64,4,2,1),\n",
        "            nn.BatchNorm2d(64),\n",
        "            nn.ReLU(True),\n",
        "            nn.ConvTranspose2d(64,1,4,2,1),  # BUG missing Tanh\n",
        "            nn.Tanh(),\n",
        "        )\n",
        "\n",
        "    def forward(self,z):\n",
        "      z=z.view(z.size(0),100,1,1)\n",
        "      return self.net(z)  # BUG reshape\n",
        "\n",
        "\n",
        "\n",
        "Dnet=D().to(device)\n",
        "Gnet=G().to(device)\n",
        "crit=nn.BCEWithLogitsLoss();\n",
        "opt_d=torch.optim.Adam(Dnet.parameters(),lr=d_lr,betas=(0.9,0.999))\n",
        "opt_g=torch.optim.Adam(Gnet.parameters(),lr=g_lr,betas=(0.9,0.999))"
      ],
      "id": "erDyqCPWOdZN"
    },
    {
      "cell_type": "code",
      "metadata": {
        "colab": {
          "base_uri": "https://localhost:8080/"
        },
        "id": "aVzhAe4nOdZO",
        "outputId": "409fbe49-1b76-4edb-f5fb-72e9b31245ce"
      },
      "execution_count": 2,
      "outputs": [
        {
          "output_type": "stream",
          "name": "stderr",
          "text": [
            "100%|██████████| 235/235 [00:13<00:00, 17.59it/s]"
          ]
        },
        {
          "output_type": "stream",
          "name": "stdout",
          "text": [
            "Now fix all the issues.\n"
          ]
        },
        {
          "output_type": "stream",
          "name": "stderr",
          "text": [
            "\n"
          ]
        }
      ],
      "source": [
        "from tqdm import tqdm\n",
        "for real,_ in tqdm(loader):\n",
        "    real=real.to(device)\n",
        "    b=real.size(0)\n",
        "    z=torch.randn(b,z_dim,device=device)\n",
        "    fake=Gnet(z.view(b,z_dim,1,1)).detach() # bug\n",
        "\n",
        "\n",
        "    opt_d.zero_grad()\n",
        "\n",
        "    loss_d=crit(Dnet(real), torch.ones(b,1,device=device)) +crit(Dnet(fake),torch.zeros(b,1,device=device))  # BUG labels\n",
        "\n",
        "    loss_d.backward();\n",
        "    opt_d.step()  # BUG insited of g\n",
        "\n",
        "    z=torch.randn(b,z_dim,device=device);\n",
        "    fake=Gnet(z.view(b,z_dim,1,1))\n",
        "\n",
        "    loss_g=crit(Dnet(fake),torch.zeros(b,1,device=device))  # BUG non-sat\n",
        "    loss_g.backward()  # BUG missing step\n",
        "    opt_g.step()\n",
        "\n",
        "print('Now fix all the issues.')"
      ],
      "id": "aVzhAe4nOdZO"
    }
  ],
  "metadata": {
    "kernelspec": {
      "name": "python3",
      "display_name": "Python 3"
    },
    "colab": {
      "provenance": [],
      "gpuType": "T4"
    },
    "accelerator": "GPU"
  },
  "nbformat": 4,
  "nbformat_minor": 5
}